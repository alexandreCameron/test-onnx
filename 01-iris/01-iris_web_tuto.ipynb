{
 "cells": [
  {
   "cell_type": "markdown",
   "metadata": {},
   "source": [
    "# Iris test adapted from the internet\n",
    "\n",
    "**Purpose**\n",
    "\n",
    "Test the `skl2onnx` package on a simple example : logistic regression on iris dataset.\n",
    "\n",
    "This script tests the following properties:\n",
    "\n",
    "1. train simple model\n",
    "2. export onnx file\n",
    "3. reload model and predict using a reloaded onnx file\n",
    "4. view information in onnx with a json like format\n",
    "5. convert onnx to pydot graph and draw graph on an image and display \n",
    "\n",
    "**Reference**\n",
    "\n",
    "http://onnx.ai/sklearn-onnx/tutorial.html : the end of that tuto is not functional\n",
    "\n",
    "and \n",
    "\n",
    "http://onnx.ai/sklearn-onnx/ : test with random forest\n",
    "\n",
    "and\n",
    "\n",
    "http://onnx.ai/sklearn-onnx/auto_examples/plot_pipeline.html :  view json and plot'\n",
    "\n",
    "to plot onnx documents, the electron app Netron is simple and easy to use:\n",
    "\n",
    "https://github.com/lutzroeder/Netron\n",
    "\n",
    "**Expected output files in chronological order**\n",
    "\n",
    "1. logreg_iris.onnx\n",
    "2. iris_graph.dot\n",
    "3. iris_graph.png"
   ]
  },
  {
   "cell_type": "markdown",
   "metadata": {},
   "source": [
    "## Step 1: Train a model using your favorite framework¶\n",
    "\n",
    "We’ll use the famous Iris datasets."
   ]
  },
  {
   "cell_type": "code",
   "execution_count": 1,
   "metadata": {
    "ExecuteTime": {
     "end_time": "2019-09-11T12:27:54.611149Z",
     "start_time": "2019-09-11T12:27:54.107934Z"
    }
   },
   "outputs": [],
   "source": [
    "from sklearn.datasets import load_iris\n",
    "from sklearn.model_selection import train_test_split\n",
    "iris = load_iris()\n",
    "X, y = iris.data, iris.target\n",
    "X_train, X_test, y_train, y_test = train_test_split(X, y)"
   ]
  },
  {
   "cell_type": "code",
   "execution_count": 2,
   "metadata": {
    "ExecuteTime": {
     "end_time": "2019-09-11T12:27:54.647784Z",
     "start_time": "2019-09-11T12:27:54.612737Z"
    }
   },
   "outputs": [
    {
     "data": {
      "text/plain": [
       "LogisticRegression(C=1.0, class_weight=None, dual=False, fit_intercept=True,\n",
       "          intercept_scaling=1, max_iter=100, multi_class='auto',\n",
       "          n_jobs=None, penalty='l2', random_state=None, solver='liblinear',\n",
       "          tol=0.0001, verbose=0, warm_start=False)"
      ]
     },
     "execution_count": 2,
     "metadata": {},
     "output_type": "execute_result"
    }
   ],
   "source": [
    "from sklearn.linear_model import LogisticRegression\n",
    "clr = LogisticRegression(solver='liblinear', multi_class='auto') \n",
    "# Params were added to avoid warning related to change of version, \n",
    "# These parameter where not optimized on the dataset\n",
    "clr.fit(X_train, y_train)"
   ]
  },
  {
   "cell_type": "markdown",
   "metadata": {},
   "source": [
    "## Step 2: Convert or export the model into ONNX format¶\n",
    "\n",
    "ONNX is a format to describe the machine learned model.\n",
    "\n",
    "It defines a set of commonly used operators to compose models.\n",
    "\n",
    "There are tools to convert other model formats into ONNX. Here we will use ONNXMLTools."
   ]
  },
  {
   "cell_type": "code",
   "execution_count": 3,
   "metadata": {
    "ExecuteTime": {
     "end_time": "2019-09-11T12:27:55.072879Z",
     "start_time": "2019-09-11T12:27:54.648989Z"
    }
   },
   "outputs": [
    {
     "name": "stderr",
     "output_type": "stream",
     "text": [
      "The maximum opset needed by this model is only 9.\n",
      "The maximum opset needed by this model is only 1.\n"
     ]
    }
   ],
   "source": [
    "from skl2onnx import convert_sklearn\n",
    "from skl2onnx.common.data_types import FloatTensorType\n",
    "\n",
    "initial_type = [('float_input', FloatTensorType([1, 4]))]\n",
    "onx = convert_sklearn(clr, initial_types=initial_type)\n",
    "\n",
    "onnx_file = \"logreg_iris.onnx\"\n",
    "\n",
    "with open(onnx_file, \"wb\") as f:\n",
    "    f.write(onx.SerializeToString())"
   ]
  },
  {
   "cell_type": "markdown",
   "metadata": {},
   "source": [
    "## Step 3: Load and run the model using ONNX Runtime\n",
    "\n",
    "We will use ONNX Runtime to compute the predictions for this machine learning model."
   ]
  },
  {
   "cell_type": "code",
   "execution_count": 4,
   "metadata": {
    "ExecuteTime": {
     "end_time": "2019-09-11T12:27:55.100304Z",
     "start_time": "2019-09-11T12:27:55.074796Z"
    }
   },
   "outputs": [],
   "source": [
    "# Compute the prediction with ONNX Runtime\n",
    "import onnxruntime as rt\n",
    "import numpy as np\n",
    "sess = rt.InferenceSession(onnx_file)\n",
    "input_name = sess.get_inputs()[0].name\n",
    "label_name = sess.get_outputs()[0].name\n",
    "pred_onx = sess.run([label_name], {input_name: X_test.astype(np.float32)})[0]"
   ]
  },
  {
   "cell_type": "markdown",
   "metadata": {},
   "source": [
    "### Check"
   ]
  },
  {
   "cell_type": "code",
   "execution_count": 5,
   "metadata": {
    "ExecuteTime": {
     "end_time": "2019-09-11T12:27:55.104999Z",
     "start_time": "2019-09-11T12:27:55.102204Z"
    }
   },
   "outputs": [
    {
     "name": "stdout",
     "output_type": "stream",
     "text": [
      "float_input output_label\n",
      "[2 0 1 0 0 2 2 1 2 2 1 0 2 0 1 0 0 1 1 0 1 2 1 2 0 0 0 0 0 0 1 2 0 0 2 2 0\n",
      " 2]\n"
     ]
    }
   ],
   "source": [
    "print(input_name, label_name)\n",
    "print(pred_onx)"
   ]
  },
  {
   "cell_type": "markdown",
   "metadata": {},
   "source": [
    "### Expected output\n",
    "\n",
    "float_input output_label\n",
    "[1 0 0 2 2 0 1 0 2 0 2 2 2 0 2 2 1 0 1 2 2 0 0 0 0 0 0 2 2 2 0 1 1 2 0 1 2 1]"
   ]
  },
  {
   "cell_type": "markdown",
   "metadata": {},
   "source": [
    "## View json version"
   ]
  },
  {
   "cell_type": "code",
   "execution_count": 6,
   "metadata": {
    "ExecuteTime": {
     "end_time": "2019-09-11T12:27:55.118494Z",
     "start_time": "2019-09-11T12:27:55.113479Z"
    }
   },
   "outputs": [
    {
     "name": "stdout",
     "output_type": "stream",
     "text": [
      "ir_version: 5\n",
      "producer_name: \"skl2onnx\"\n",
      "producer_version: \"1.5.1\"\n",
      "domain: \"ai.onnx\"\n",
      "model_version: 0\n",
      "doc_string: \"\"\n",
      "graph {\n",
      "  node {\n",
      "    input: \"float_input\"\n",
      "    output: \"label\"\n",
      "    output: \"probability_tensor\"\n",
      "    name: \"LinearClassifier\"\n",
      "    op_type: \"LinearClassifier\"\n",
      "    attribute {\n",
      "      name: \"classlabels_ints\"\n",
      "      ints: 0\n",
      "      ints: 1\n",
      "      ints: 2\n",
      "      type: INTS\n",
      "    }\n",
      "    attribute {\n",
      "      name: \"coefficients\"\n",
      "      floats: 0.3948916792869568\n",
      "      floats: 1.3067545890808105\n",
      "      floats: -2.1131019592285156\n",
      "      floats: -0.951578676700592\n",
      "      floats: 0.4458463490009308\n",
      "      floats: -1.4048690795898438\n",
      "      floats: 0.36600184440612793\n",
      "      floats: -0.9445315599441528\n",
      "      floats: -1.6174530982971191\n",
      "      floats: -1.3608001470565796\n",
      "      floats: 2.356180429458618\n",
      "      floats: 2.097918748855591\n",
      "      type: FLOATS\n",
      "    }\n",
      "    attribute {\n",
      "      name: \"intercepts\"\n",
      "      floats: 0.2728666067123413\n",
      "      floats: 0.7293078899383545\n",
      "      floats: -1.0498480796813965\n",
      "      type: FLOATS\n",
      "    }\n",
      "    attribute {\n",
      "      name: \"multi_class\"\n",
      "      i: 1\n",
      "      type: INT\n",
      "    }\n",
      "    attribute {\n",
      "      name: \"post_transform\"\n",
      "      s: \"LOGISTIC\"\n",
      "      type: STRING\n",
      "    }\n",
      "    domain: \"ai.onnx.ml\"\n",
      "  }\n",
      "  node {\n",
      "    input: \"probability_tensor\"\n",
      "    output: \"probabilities\"\n",
      "    name: \"Normalizer\"\n",
      "    op_type: \"Normalizer\"\n",
      "    attribute {\n",
      "      name: \"norm\"\n",
      "      s: \"L1\"\n",
      "      type: STRING\n",
      "    }\n",
      "    domain: \"ai.onnx.ml\"\n",
      "  }\n",
      "  node {\n",
      "    input: \"label\"\n",
      "    output: \"output_label\"\n",
      "    name: \"Cast\"\n",
      "    op_type: \"Cast\"\n",
      "    attribute {\n",
      "      name: \"to\"\n",
      "      i: 7\n",
      "      type: INT\n",
      "    }\n",
      "    domain: \"\"\n",
      "  }\n",
      "  node {\n",
      "    input: \"probabilities\"\n",
      "    output: \"output_probability\"\n",
      "    name: \"ZipMap\"\n",
      "    op_type: \"ZipMap\"\n",
      "    attribute {\n",
      "      name: \"classlabels_int64s\"\n",
      "      ints: 0\n",
      "      ints: 1\n",
      "      ints: 2\n",
      "      type: INTS\n",
      "    }\n",
      "    domain: \"ai.onnx.ml\"\n",
      "  }\n",
      "  name: \"516da0571a9d4fdfb6ac43b35c59008a\"\n",
      "  input {\n",
      "    name: \"float_input\"\n",
      "    type {\n",
      "      tensor_type {\n",
      "        elem_type: 1\n",
      "        shape {\n",
      "          dim {\n",
      "            dim_value: 1\n",
      "          }\n",
      "          dim {\n",
      "            dim_value: 4\n",
      "          }\n",
      "        }\n",
      "      }\n",
      "    }\n",
      "  }\n",
      "  output {\n",
      "    name: \"output_label\"\n",
      "    type {\n",
      "      tensor_type {\n",
      "        elem_type: 7\n",
      "        shape {\n",
      "          dim {\n",
      "            dim_value: 1\n",
      "          }\n",
      "        }\n",
      "      }\n",
      "    }\n",
      "  }\n",
      "  output {\n",
      "    name: \"output_probability\"\n",
      "    type {\n",
      "      sequence_type {\n",
      "        elem_type {\n",
      "          map_type {\n",
      "            key_type: 7\n",
      "            value_type {\n",
      "              tensor_type {\n",
      "                elem_type: 1\n",
      "              }\n",
      "            }\n",
      "          }\n",
      "        }\n",
      "      }\n",
      "    }\n",
      "  }\n",
      "}\n",
      "opset_import {\n",
      "  domain: \"\"\n",
      "  version: 9\n",
      "}\n",
      "opset_import {\n",
      "  domain: \"ai.onnx.ml\"\n",
      "  version: 1\n",
      "}\n",
      "\n"
     ]
    }
   ],
   "source": [
    "import onnx\n",
    "onnx_model = onnx.load(onnx_file)\n",
    "print(onnx_model.__str__())"
   ]
  },
  {
   "cell_type": "code",
   "execution_count": 7,
   "metadata": {
    "ExecuteTime": {
     "end_time": "2019-09-11T12:27:55.130273Z",
     "start_time": "2019-09-11T12:27:55.120791Z"
    }
   },
   "outputs": [
    {
     "name": "stdout",
     "output_type": "stream",
     "text": [
      "{'name': 'John', 'age': 30, 'city': 'New York'}\n",
      "\n",
      "Bad format Need proper quotes\n"
     ]
    }
   ],
   "source": [
    "import json\n",
    "\n",
    "json_test_1 = json.loads('{ \"name\":\"John\", \"age\":30, \"city\":\"New York\"}')\n",
    "print(json_test_1)\n",
    "print('')\n",
    "\n",
    "try: \n",
    "    json_test_2 = json.loads('{ name:\"John\", age:30, city:\"New York\"}')\n",
    "    print(json_test_2)\n",
    "except json.JSONDecodeError:\n",
    "    print(\"Bad format Need proper quotes\")"
   ]
  },
  {
   "cell_type": "markdown",
   "metadata": {},
   "source": [
    "**We can read the information within the onnx file in a JSON-like format ...**\n",
    "\n",
    "**... but the format can *NOT* be easily exported.**"
   ]
  },
  {
   "cell_type": "markdown",
   "metadata": {
    "ExecuteTime": {
     "end_time": "2019-09-11T07:46:25.172377Z",
     "start_time": "2019-09-11T07:46:25.125358Z"
    }
   },
   "source": [
    "## Draw a model with ONNX\n",
    "\n",
    "We use net_drawer.py included in onnx package. We use onnx to load the model in a different way than before."
   ]
  },
  {
   "cell_type": "code",
   "execution_count": 8,
   "metadata": {
    "ExecuteTime": {
     "end_time": "2019-09-11T12:27:55.137453Z",
     "start_time": "2019-09-11T12:27:55.132201Z"
    }
   },
   "outputs": [],
   "source": [
    "from onnx import ModelProto\n",
    "model = ModelProto()\n",
    "with open(onnx_file, 'rb') as fid:\n",
    "    content = fid.read()\n",
    "    model.ParseFromString(content)"
   ]
  },
  {
   "cell_type": "markdown",
   "metadata": {},
   "source": [
    "### We convert it into a graph.\n",
    "\n",
    "WARNING: This section require requires graphviz:\n",
    "\n",
    "`sudo apt-get install graphviz`"
   ]
  },
  {
   "cell_type": "code",
   "execution_count": 9,
   "metadata": {
    "ExecuteTime": {
     "end_time": "2019-09-11T12:27:55.157365Z",
     "start_time": "2019-09-11T12:27:55.140716Z"
    }
   },
   "outputs": [
    {
     "data": {
      "text/plain": [
       "True"
      ]
     },
     "execution_count": 9,
     "metadata": {},
     "output_type": "execute_result"
    }
   ],
   "source": [
    "from onnx.tools.net_drawer import GetPydotGraph, GetOpNodeProducer\n",
    "\n",
    "import pydot\n",
    "\n",
    "pydot_graph = GetPydotGraph(model.graph, name=model.graph.name, rankdir=\"TB\",\n",
    "                            node_producer=GetOpNodeProducer(\"docstring\"))\n",
    "graph_file = 'iris_graph.dot'\n",
    "graph_img = 'iris_graph.png'\n",
    "pydot_graph.write(graph_file)"
   ]
  },
  {
   "cell_type": "markdown",
   "metadata": {},
   "source": [
    "### Then into an image"
   ]
  },
  {
   "cell_type": "code",
   "execution_count": 10,
   "metadata": {
    "ExecuteTime": {
     "end_time": "2019-09-11T12:27:55.286428Z",
     "start_time": "2019-09-11T12:27:55.159447Z"
    }
   },
   "outputs": [],
   "source": [
    "(graph,) = pydot.graph_from_dot_file(graph_file)\n",
    "graph.write_png(graph_img)"
   ]
  },
  {
   "cell_type": "markdown",
   "metadata": {
    "ExecuteTime": {
     "end_time": "2019-09-11T09:43:32.208853Z",
     "start_time": "2019-09-11T09:43:32.197582Z"
    }
   },
   "source": [
    "### Display image\n",
    "\n",
    "Image can also be opened directly using your file system.\n",
    "\n",
    "For more information on the display of images see:\n",
    "\n",
    "https://stackoverflow.com/questions/32370281/how-to-embed-image-or-picture-in-jupyter-notebook-either-from-a-local-machine-o"
   ]
  },
  {
   "cell_type": "code",
   "execution_count": 11,
   "metadata": {
    "ExecuteTime": {
     "end_time": "2019-09-11T12:27:55.299508Z",
     "start_time": "2019-09-11T12:27:55.289801Z"
    }
   },
   "outputs": [
    {
     "data": {
      "image/png": "[encoded data removed]",
      "text/plain": [
       "<IPython.core.display.Image object>"
      ]
     },
     "execution_count": 11,
     "metadata": {},
     "output_type": "execute_result"
    }
   ],
   "source": [
    "from IPython.display import Image\n",
    "Image(graph_img)"
   ]
  },
  {
   "cell_type": "markdown",
   "metadata": {},
   "source": [
    "# End of script"
   ]
  }
 ],
 "metadata": {
  "kernelspec": {
   "display_name": "venv3_test-onnx",
   "language": "python",
   "name": "venv3_test-onnx"
  },
  "language_info": {
   "codemirror_mode": {
    "name": "ipython",
    "version": 3
   },
   "file_extension": ".py",
   "mimetype": "text/x-python",
   "name": "python",
   "nbconvert_exporter": "python",
   "pygments_lexer": "ipython3",
   "version": "3.6.8"
  },
  "toc": {
   "base_numbering": 1,
   "nav_menu": {},
   "number_sections": true,
   "sideBar": true,
   "skip_h1_title": false,
   "title_cell": "Table of Contents",
   "title_sidebar": "Contents",
   "toc_cell": false,
   "toc_position": {},
   "toc_section_display": true,
   "toc_window_display": false
  }
 },
 "nbformat": 4,
 "nbformat_minor": 2
}
