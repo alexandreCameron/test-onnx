{
 "cells": [
  {
   "cell_type": "markdown",
   "metadata": {},
   "source": [
    "# Simple transformation: double permutation\n",
    "\n",
    "Write simple transformation in onnx, in this case a tranposition\n",
    "\n",
    "**Reference**\n",
    "\n",
    "For more information see:\n",
    "\n",
    "`plot_onnx_operators.ipynb`\n",
    "\n",
    "copied from\n",
    "\n",
    "https://xadupre.github.io/skl2onnx/auto_examples/plot_onnx_operators.html\n",
    "\n",
    "**List of onnx operation**\n",
    "\n",
    "Full list of operations can be found at|\n",
    "\n",
    "https://xadupre.github.io/skl2onnx/onnx_ops.html"
   ]
  },
  {
   "cell_type": "code",
   "execution_count": 1,
   "metadata": {
    "ExecuteTime": {
     "end_time": "2019-09-30T16:34:01.536274Z",
     "start_time": "2019-09-30T16:34:00.708098Z"
    }
   },
   "outputs": [],
   "source": [
    "# Base for the types\n",
    "import numpy as np\n",
    "\n",
    "# Elementary mathematical functions\n",
    "from skl2onnx.algebra.onnx_ops import OnnxTranspose\n",
    "\n",
    "# Onnx back function\n",
    "import onnx\n",
    "from onnx import ModelProto\n",
    "import onnxruntime as rt\n",
    "\n",
    "# Plot graph\n",
    "import pydot\n",
    "from IPython.display import Image\n",
    "from onnx.tools.net_drawer import GetPydotGraph, GetOpNodeProducer"
   ]
  },
  {
   "cell_type": "markdown",
   "metadata": {
    "ExecuteTime": {
     "end_time": "2019-09-30T15:57:03.488173Z",
     "start_time": "2019-09-30T15:57:03.485431Z"
    }
   },
   "source": [
    "# Create new transformation"
   ]
  },
  {
   "cell_type": "code",
   "execution_count": 2,
   "metadata": {
    "ExecuteTime": {
     "end_time": "2019-09-30T16:34:01.547037Z",
     "start_time": "2019-09-30T16:34:01.537686Z"
    }
   },
   "outputs": [],
   "source": [
    "# 1. Input shape\n",
    "# from doc: np.arrays are good enough to define the input shape\n",
    "X = np.arange(2 * 3 * 4).reshape((2, 3, 4)).astype(np.float32)\n",
    "\n",
    "# 2. Transformation\n",
    "node = OnnxTranspose(OnnxTranspose('X', perm=[1, 0, 2]), perm=[1, 0, 2])\n",
    "model_custom = node.to_onnx({'X': X})\n",
    "\n",
    "# 3. Check if model is OK\n",
    "onnx.checker.check_model(model_custom)\n",
    "\n",
    "# 4. Save transfo\n",
    "onnx_file = \"custom_transpose.onnx\"\n",
    "with open(onnx_file, \"wb\") as f:\n",
    "    f.write(model_custom.SerializeToString())"
   ]
  },
  {
   "cell_type": "markdown",
   "metadata": {},
   "source": [
    "---\n",
    "\n",
    "**The transfo is coded, the rest of the notebook is just viz and tests**\n",
    "\n",
    "---"
   ]
  },
  {
   "cell_type": "markdown",
   "metadata": {},
   "source": [
    "# Viz and tests"
   ]
  },
  {
   "cell_type": "markdown",
   "metadata": {},
   "source": [
    "## View custom transfo info"
   ]
  },
  {
   "cell_type": "code",
   "execution_count": 3,
   "metadata": {
    "ExecuteTime": {
     "end_time": "2019-09-30T16:34:01.566733Z",
     "start_time": "2019-09-30T16:34:01.548832Z"
    }
   },
   "outputs": [
    {
     "name": "stdout",
     "output_type": "stream",
     "text": [
      "--------------------------------------------------\n",
      "Model python type\n",
      "<class 'onnx.onnx_ONNX_RELEASE_ml_pb2.ModelProto'>\n",
      "--------------------------------------------------\n",
      "Model values\n"
     ]
    },
    {
     "data": {
      "text/plain": [
       "ir_version: 5\n",
       "producer_name: \"skl2onnx\"\n",
       "producer_version: \"1.5.1\"\n",
       "domain: \"ai.onnx\"\n",
       "model_version: 0\n",
       "graph {\n",
       "  node {\n",
       "    input: \"X\"\n",
       "    output: \"Tr_transposed01\"\n",
       "    name: \"Tr_Transpose\"\n",
       "    op_type: \"Transpose\"\n",
       "    attribute {\n",
       "      name: \"perm\"\n",
       "      ints: 1\n",
       "      ints: 0\n",
       "      ints: 2\n",
       "      type: INTS\n",
       "    }\n",
       "    domain: \"\"\n",
       "  }\n",
       "  node {\n",
       "    input: \"Tr_transposed01\"\n",
       "    output: \"Tr_transposed0\"\n",
       "    name: \"Tr_Transpose1\"\n",
       "    op_type: \"Transpose\"\n",
       "    attribute {\n",
       "      name: \"perm\"\n",
       "      ints: 1\n",
       "      ints: 0\n",
       "      ints: 2\n",
       "      type: INTS\n",
       "    }\n",
       "    domain: \"\"\n",
       "  }\n",
       "  name: \"OnnxTranspose\"\n",
       "  input {\n",
       "    name: \"X\"\n",
       "    type {\n",
       "      tensor_type {\n",
       "        elem_type: 1\n",
       "        shape {\n",
       "          dim {\n",
       "          }\n",
       "          dim {\n",
       "            dim_value: 3\n",
       "          }\n",
       "          dim {\n",
       "            dim_value: 4\n",
       "          }\n",
       "        }\n",
       "      }\n",
       "    }\n",
       "  }\n",
       "  output {\n",
       "    name: \"Tr_transposed01\"\n",
       "    type {\n",
       "      tensor_type {\n",
       "        elem_type: 1\n",
       "        shape {\n",
       "          dim {\n",
       "            dim_value: 3\n",
       "          }\n",
       "          dim {\n",
       "            dim_value: 0\n",
       "          }\n",
       "          dim {\n",
       "            dim_value: 4\n",
       "          }\n",
       "        }\n",
       "      }\n",
       "    }\n",
       "  }\n",
       "  output {\n",
       "    name: \"Tr_transposed0\"\n",
       "    type {\n",
       "      tensor_type {\n",
       "        elem_type: 1\n",
       "        shape {\n",
       "          dim {\n",
       "            dim_value: 0\n",
       "          }\n",
       "          dim {\n",
       "            dim_value: 3\n",
       "          }\n",
       "          dim {\n",
       "            dim_value: 4\n",
       "          }\n",
       "        }\n",
       "      }\n",
       "    }\n",
       "  }\n",
       "}\n",
       "opset_import {\n",
       "  domain: \"\"\n",
       "  version: 10\n",
       "}"
      ]
     },
     "metadata": {},
     "output_type": "display_data"
    },
    {
     "name": "stdout",
     "output_type": "stream",
     "text": [
      "--------------------------------------------------\n"
     ]
    }
   ],
   "source": [
    "print(50*\"-\")\n",
    "print(\"Model python type\")\n",
    "print(type(model_custom))\n",
    "print(50*\"-\")\n",
    "print(\"Model values\")\n",
    "display(model_custom)\n",
    "print(50*\"-\")"
   ]
  },
  {
   "cell_type": "markdown",
   "metadata": {},
   "source": [
    "## Reload  and plot model"
   ]
  },
  {
   "cell_type": "code",
   "execution_count": 5,
   "metadata": {
    "ExecuteTime": {
     "end_time": "2019-09-30T16:34:01.678066Z",
     "start_time": "2019-09-30T16:34:01.575163Z"
    }
   },
   "outputs": [
    {
     "name": "stdout",
     "output_type": "stream",
     "text": [
      "ir_version: 5\n",
      "producer_name: \"skl2onnx\"\n",
      "producer_version: \"1.5.1\"\n",
      "domain: \"ai.onnx\"\n",
      "model_version: 0\n",
      "graph {\n",
      "  node {\n",
      "    input: \"X\"\n",
      "    output: \"Tr_transposed01\"\n",
      "    name: \"Tr_Transpose\"\n",
      "    op_type: \"Transpose\"\n",
      "    attribute {\n",
      "      name: \"perm\"\n",
      "      ints: 1\n",
      "      ints: 0\n",
      "      ints: 2\n",
      "      type: INTS\n",
      "    }\n",
      "    domain: \"\"\n",
      "  }\n",
      "  node {\n",
      "    input: \"Tr_transposed01\"\n",
      "    output: \"Tr_transposed0\"\n",
      "    name: \"Tr_Transpose1\"\n",
      "    op_type: \"Transpose\"\n",
      "    attribute {\n",
      "      name: \"perm\"\n",
      "      ints: 1\n",
      "      ints: 0\n",
      "      ints: 2\n",
      "      type: INTS\n",
      "    }\n",
      "    domain: \"\"\n",
      "  }\n",
      "  name: \"OnnxTranspose\"\n",
      "  input {\n",
      "    name: \"X\"\n",
      "    type {\n",
      "      tensor_type {\n",
      "        elem_type: 1\n",
      "        shape {\n",
      "          dim {\n",
      "          }\n",
      "          dim {\n",
      "            dim_value: 3\n",
      "          }\n",
      "          dim {\n",
      "            dim_value: 4\n",
      "          }\n",
      "        }\n",
      "      }\n",
      "    }\n",
      "  }\n",
      "  output {\n",
      "    name: \"Tr_transposed01\"\n",
      "    type {\n",
      "      tensor_type {\n",
      "        elem_type: 1\n",
      "        shape {\n",
      "          dim {\n",
      "            dim_value: 3\n",
      "          }\n",
      "          dim {\n",
      "            dim_value: 0\n",
      "          }\n",
      "          dim {\n",
      "            dim_value: 4\n",
      "          }\n",
      "        }\n",
      "      }\n",
      "    }\n",
      "  }\n",
      "  output {\n",
      "    name: \"Tr_transposed0\"\n",
      "    type {\n",
      "      tensor_type {\n",
      "        elem_type: 1\n",
      "        shape {\n",
      "          dim {\n",
      "            dim_value: 0\n",
      "          }\n",
      "          dim {\n",
      "            dim_value: 3\n",
      "          }\n",
      "          dim {\n",
      "            dim_value: 4\n",
      "          }\n",
      "        }\n",
      "      }\n",
      "    }\n",
      "  }\n",
      "}\n",
      "opset_import {\n",
      "  domain: \"\"\n",
      "  version: 10\n",
      "}\n",
      "\n"
     ]
    },
    {
     "data": {
      "image/png": "[encoded data removed]",
      "text/plain": [
       "<IPython.core.display.Image object>"
      ]
     },
     "execution_count": 5,
     "metadata": {},
     "output_type": "execute_result"
    }
   ],
   "source": [
    "# Load\n",
    "onnx_model = onnx.load(onnx_file)\n",
    "model = ModelProto()\n",
    "with open(onnx_file, 'rb') as fid:\n",
    "    content = fid.read()\n",
    "    model.ParseFromString(content)\n",
    "    \n",
    "# Make pydot object\n",
    "pydot_graph = GetPydotGraph(model.graph, name=model.graph.name, rankdir=\"TB\",\n",
    "                            node_producer=GetOpNodeProducer(\"docstring\"))\n",
    "graph_file = 'imp_graph.dot'\n",
    "graph_img = 'imp_graph.png'\n",
    "pydot_graph.write(graph_file)\n",
    "\n",
    "# Write image\n",
    "(graph,) = pydot.graph_from_dot_file(graph_file)\n",
    "graph.write_png(graph_img)\n",
    "\n",
    "# View transformation\n",
    "# # JSON-like\n",
    "print(onnx_model.__str__())\n",
    "\n",
    "# # Image\n",
    "Image(graph_img)"
   ]
  },
  {
   "cell_type": "markdown",
   "metadata": {},
   "source": [
    "## Make a prediction"
   ]
  },
  {
   "cell_type": "code",
   "execution_count": 6,
   "metadata": {
    "ExecuteTime": {
     "end_time": "2019-09-30T16:34:01.685381Z",
     "start_time": "2019-09-30T16:34:01.680949Z"
    }
   },
   "outputs": [],
   "source": [
    "def fast_predict(model, *inputs):\n",
    "    import onnxruntime as rt\n",
    "    sess = rt.InferenceSession(model.SerializeToString())\n",
    "    in_names = [i.name for i in sess.get_inputs()]\n",
    "    in_dict = {name: in_val for name, in_val in zip(in_names, inputs)}\n",
    "    res = sess.run(None, in_dict)[-1]\n",
    "    return res"
   ]
  },
  {
   "cell_type": "code",
   "execution_count": 9,
   "metadata": {
    "ExecuteTime": {
     "end_time": "2019-09-30T16:38:59.040297Z",
     "start_time": "2019-09-30T16:38:59.031742Z"
    }
   },
   "outputs": [],
   "source": [
    "X_2 = np.arange(2 * 3 * 4 * 2).reshape((2, 3, 4 * 2)).astype(np.float32)"
   ]
  },
  {
   "cell_type": "code",
   "execution_count": 10,
   "metadata": {
    "ExecuteTime": {
     "end_time": "2019-09-30T16:38:59.529341Z",
     "start_time": "2019-09-30T16:38:59.521934Z"
    }
   },
   "outputs": [
    {
     "data": {
      "text/plain": [
       "array([[[ 0.,  1.,  2.,  3.,  4.,  5.,  6.,  7.],\n",
       "        [ 8.,  9., 10., 11., 12., 13., 14., 15.],\n",
       "        [16., 17., 18., 19., 20., 21., 22., 23.]],\n",
       "\n",
       "       [[24., 25., 26., 27., 28., 29., 30., 31.],\n",
       "        [32., 33., 34., 35., 36., 37., 38., 39.],\n",
       "        [40., 41., 42., 43., 44., 45., 46., 47.]]], dtype=float32)"
      ]
     },
     "execution_count": 10,
     "metadata": {},
     "output_type": "execute_result"
    }
   ],
   "source": [
    "fast_predict(model_custom, X_2)"
   ]
  },
  {
   "cell_type": "markdown",
   "metadata": {},
   "source": [
    "## Get detailled information on the prediction"
   ]
  },
  {
   "cell_type": "code",
   "execution_count": 8,
   "metadata": {
    "ExecuteTime": {
     "end_time": "2019-09-30T16:34:01.717540Z",
     "start_time": "2019-09-30T16:34:01.703557Z"
    }
   },
   "outputs": [
    {
     "name": "stdout",
     "output_type": "stream",
     "text": [
      "1\n",
      "['X']\n",
      "2\n",
      "{'X': array([[[ 0.,  1.,  2.,  3.],\n",
      "        [ 4.,  5.,  6.,  7.],\n",
      "        [ 8.,  9., 10., 11.]],\n",
      "\n",
      "       [[12., 13., 14., 15.],\n",
      "        [16., 17., 18., 19.],\n",
      "        [20., 21., 22., 23.]]], dtype=float32)}\n",
      "3\n",
      "[array([[[ 0.,  1.,  2.,  3.],\n",
      "        [12., 13., 14., 15.]],\n",
      "\n",
      "       [[ 4.,  5.,  6.,  7.],\n",
      "        [16., 17., 18., 19.]],\n",
      "\n",
      "       [[ 8.,  9., 10., 11.],\n",
      "        [20., 21., 22., 23.]]], dtype=float32), array([[[ 0.,  1.,  2.,  3.],\n",
      "        [ 4.,  5.,  6.,  7.],\n",
      "        [ 8.,  9., 10., 11.]],\n",
      "\n",
      "       [[12., 13., 14., 15.],\n",
      "        [16., 17., 18., 19.],\n",
      "        [20., 21., 22., 23.]]], dtype=float32)]\n",
      "4\n",
      "['Tr_transposed01', 'Tr_transposed0']\n",
      "5\n",
      "{'Tr_transposed01': array([[[ 0.,  1.,  2.,  3.],\n",
      "        [12., 13., 14., 15.]],\n",
      "\n",
      "       [[ 4.,  5.,  6.,  7.],\n",
      "        [16., 17., 18., 19.]],\n",
      "\n",
      "       [[ 8.,  9., 10., 11.],\n",
      "        [20., 21., 22., 23.]]], dtype=float32), 'Tr_transposed0': array([[[ 0.,  1.,  2.,  3.],\n",
      "        [ 4.,  5.,  6.,  7.],\n",
      "        [ 8.,  9., 10., 11.]],\n",
      "\n",
      "       [[12., 13., 14., 15.],\n",
      "        [16., 17., 18., 19.],\n",
      "        [20., 21., 22., 23.]]], dtype=float32)}\n"
     ]
    }
   ],
   "source": [
    "def detailed_predict(model, *inputs):\n",
    "    import onnxruntime as rt\n",
    "    sess = rt.InferenceSession(model.SerializeToString())\n",
    "    in_names = [i.name for i in sess.get_inputs()]\n",
    "    print(\"1\")\n",
    "    print(in_names)\n",
    "    in_dict = {name: in_val for name, in_val in zip(in_names, inputs)}\n",
    "    print(\"2\")\n",
    "    print(in_dict)\n",
    "    res = sess.run(None, in_dict)\n",
    "    print(\"3\")\n",
    "    print(res)\n",
    "    out_names = [o.name for o in sess.get_outputs()]\n",
    "    print(\"4\")\n",
    "    print(out_names)\n",
    "    print(\"5\")\n",
    "    return {name: output for name, output in zip(out_names, res)}\n",
    "\n",
    "Y = detailed_predict(model_custom, X)\n",
    "print(Y)"
   ]
  },
  {
   "cell_type": "markdown",
   "metadata": {},
   "source": [
    "---"
   ]
  },
  {
   "cell_type": "markdown",
   "metadata": {},
   "source": [
    "# End of script"
   ]
  }
 ],
 "metadata": {
  "kernelspec": {
   "display_name": "venv3_test-onnx",
   "language": "python",
   "name": "venv3_test-onnx"
  },
  "language_info": {
   "codemirror_mode": {
    "name": "ipython",
    "version": 3
   },
   "file_extension": ".py",
   "mimetype": "text/x-python",
   "name": "python",
   "nbconvert_exporter": "python",
   "pygments_lexer": "ipython3",
   "version": "3.6.8"
  },
  "toc": {
   "base_numbering": 1,
   "nav_menu": {},
   "number_sections": true,
   "sideBar": true,
   "skip_h1_title": false,
   "title_cell": "Table of Contents",
   "title_sidebar": "Contents",
   "toc_cell": false,
   "toc_position": {},
   "toc_section_display": true,
   "toc_window_display": false
  }
 },
 "nbformat": 4,
 "nbformat_minor": 1
}
