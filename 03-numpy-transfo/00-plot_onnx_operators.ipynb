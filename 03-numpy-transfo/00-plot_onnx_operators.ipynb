{
 "cells": [
  {
   "cell_type": "code",
   "execution_count": null,
   "metadata": {
    "ExecuteTime": {
     "end_time": "2019-10-02T12:45:35.825498Z",
     "start_time": "2019-10-02T12:45:35.490502Z"
    }
   },
   "outputs": [],
   "source": [
    "%matplotlib inline"
   ]
  },
  {
   "cell_type": "markdown",
   "metadata": {},
   "source": [
    "\n",
    "\n",
    "Play with ONNX operators\n",
    "========================\n",
    "\n",
    "ONNX aims at describing most of the machine learning models \n",
    "implemented in *scikit-learn* but it does not necessarily describe\n",
    "the prediction function the same way *scikit-learn* does.\n",
    "If it is possible to define custom operators, it usually\n",
    "requires some time to add it to ONNX specifications and then to\n",
    "the backend used to compute the predictions. It is better to look\n",
    "first if the existing operators can be used. The list is available\n",
    "on *github* and gives the `basic operators\n",
    "<https://github.com/onnx/onnx/blob/master/docs/Operators.md>`_\n",
    "and others `dedicated to machine learning\n",
    "<https://github.com/onnx/onnx/blob/master/docs/Operators-ml.md>`_.\n",
    "*ONNX* has a Python API which can be used to define an *ONNX*\n",
    "graph: `PythonAPIOverview.md\n",
    "<https://github.com/onnx/onnx/blob/master/docs/PythonAPIOverview.md>`_.\n",
    "But it is quite verbose and makes it difficult to describe big graphs.\n",
    "*sklearn-onnx* implements a nicer way to test *ONNX* operators.\n",
    "\n",
    "ONNX Python API\n",
    "+++++++++++++++\n",
    "\n",
    "Let's try the example given by ONNX documentation:\n",
    "`PythonAPIOverview.md\n",
    "<https://github.com/onnx/onnx/blob/master/docs/PythonAPIOverview.md#creating-an-onnx-model-using-helper-functions>`_.\n"
   ]
  },
  {
   "cell_type": "code",
   "execution_count": null,
   "metadata": {
    "ExecuteTime": {
     "end_time": "2019-10-02T12:45:35.926878Z",
     "start_time": "2019-10-02T12:45:35.827386Z"
    }
   },
   "outputs": [],
   "source": [
    "import onnx\n",
    "from onnx import helper\n",
    "from onnx import AttributeProto, TensorProto, GraphProto\n",
    "\n",
    "\n",
    "# The protobuf definition can be found here:\n",
    "# https://github.com/onnx/onnx/blob/master/onnx/onnx.proto\n",
    "\n",
    "\n",
    "# Create one input (ValueInfoProto)\n",
    "X = helper.make_tensor_value_info('X', TensorProto.FLOAT, [1, 2])\n",
    "\n",
    "# Create one output (ValueInfoProto)\n",
    "Y = helper.make_tensor_value_info('Y', TensorProto.FLOAT, [1, 4])\n",
    "\n",
    "# Create a node (NodeProto)\n",
    "node_def = helper.make_node(\n",
    "    'Pad', # node name\n",
    "    ['X'], # inputs\n",
    "    ['Y'], # outputs\n",
    "    mode='constant', # attributes\n",
    "    value=1.5,\n",
    "    pads=[0, 1, 0, 1],\n",
    ")\n",
    "\n",
    "# Create the graph (GraphProto)\n",
    "graph_def = helper.make_graph(\n",
    "    [node_def],\n",
    "    'test-model',\n",
    "    [X],\n",
    "    [Y],\n",
    ")\n",
    "\n",
    "# Create the model (ModelProto)\n",
    "model_def = helper.make_model(graph_def, producer_name='onnx-example')\n",
    "\n",
    "print('The model is:\\n{}'.format(model_def))\n",
    "onnx.checker.check_model(model_def)\n",
    "print('The model is checked!')"
   ]
  },
  {
   "cell_type": "markdown",
   "metadata": {},
   "source": [
    "Same example with sklearn-onnx\n",
    "++++++++++++++++++++++++++++++\n",
    "\n",
    "Every operator has its own class in *sklearn-onnx*.\n",
    "The list is dynamically created based on the installed\n",
    "onnx package.\n",
    "\n"
   ]
  },
  {
   "cell_type": "code",
   "execution_count": null,
   "metadata": {
    "ExecuteTime": {
     "end_time": "2019-10-02T12:45:36.512205Z",
     "start_time": "2019-10-02T12:45:35.928689Z"
    }
   },
   "outputs": [],
   "source": [
    "from skl2onnx.algebra.onnx_ops import OnnxPad\n",
    "\n",
    "pad = OnnxPad('X', output_names=['Y'],\n",
    "              mode='constant', value=1.5,\n",
    "              pads=[0, 1, 0, 1])\n",
    "\n",
    "model_def = pad.to_onnx({'X': X})\n",
    "\n",
    "print('The model is:\\n{}'.format(model_def))\n",
    "onnx.checker.check_model(model_def)\n",
    "print('The model is checked!')"
   ]
  },
  {
   "cell_type": "markdown",
   "metadata": {},
   "source": [
    "Inputs and outputs can also be skipped.\n",
    "\n"
   ]
  },
  {
   "cell_type": "code",
   "execution_count": null,
   "metadata": {
    "ExecuteTime": {
     "end_time": "2019-10-02T12:45:36.522229Z",
     "start_time": "2019-10-02T12:45:36.515006Z"
    }
   },
   "outputs": [],
   "source": [
    "pad = OnnxPad(mode='constant', value=1.5,\n",
    "              pads=[0, 1, 0, 1])\n",
    "\n",
    "model_def = pad.to_onnx({pad.inputs[0].name: X})\n",
    "onnx.checker.check_model(model_def)"
   ]
  },
  {
   "cell_type": "markdown",
   "metadata": {},
   "source": [
    "Multiple operators\n",
    "++++++++++++++++++\n",
    "\n",
    "Let's use the second example from the documentation.\n",
    "\n"
   ]
  },
  {
   "cell_type": "code",
   "execution_count": null,
   "metadata": {
    "ExecuteTime": {
     "end_time": "2019-10-02T12:45:36.530695Z",
     "start_time": "2019-10-02T12:45:36.524155Z"
    }
   },
   "outputs": [],
   "source": [
    "# Preprocessing: create a model with two nodes, Y's shape is unknown\n",
    "node1 = helper.make_node('Transpose', ['X'], ['Y'], perm=[1, 0, 2])\n",
    "node2 = helper.make_node('Transpose', ['Y'], ['Z'], perm=[1, 0, 2])\n",
    "\n",
    "graph = helper.make_graph(\n",
    "    [node1, node2],\n",
    "    'two-transposes',\n",
    "    [helper.make_tensor_value_info('X', TensorProto.FLOAT, (2, 3, 4))],\n",
    "    [helper.make_tensor_value_info('Z', TensorProto.FLOAT, (2, 3, 4))],\n",
    ")\n",
    "\n",
    "original_model = helper.make_model(graph, producer_name='onnx-examples')\n",
    "\n",
    "# Check the model and print Y's shape information\n",
    "onnx.checker.check_model(original_model)"
   ]
  },
  {
   "cell_type": "markdown",
   "metadata": {},
   "source": [
    "Which we translate into:\n",
    "\n"
   ]
  },
  {
   "cell_type": "code",
   "execution_count": null,
   "metadata": {
    "ExecuteTime": {
     "end_time": "2019-10-02T12:45:36.542545Z",
     "start_time": "2019-10-02T12:45:36.532270Z"
    }
   },
   "outputs": [],
   "source": [
    "import numpy as np\n",
    "from skl2onnx.algebra.onnx_ops import OnnxTranspose\n",
    "\n",
    "node = OnnxTranspose(OnnxTranspose('X', perm=[1, 0, 2]), perm=[1, 0, 2])\n",
    "X = np.arange(2 * 3 * 4).reshape((2, 3, 4)).astype(np.float32)\n",
    "\n",
    "# numpy arrays are good enough to define the input shape\n",
    "model_def = node.to_onnx({'X': X})\n",
    "onnx.checker.check_model(model_def)"
   ]
  },
  {
   "cell_type": "markdown",
   "metadata": {},
   "source": [
    "Let's the output with onnxruntime\n",
    "\n"
   ]
  },
  {
   "cell_type": "code",
   "execution_count": null,
   "metadata": {
    "ExecuteTime": {
     "end_time": "2019-10-02T12:45:36.580654Z",
     "start_time": "2019-10-02T12:45:36.544438Z"
    }
   },
   "outputs": [],
   "source": [
    "def predict_with_onnxruntime(model_def, *inputs):\n",
    "    import onnxruntime as ort\n",
    "    sess = ort.InferenceSession(model_def.SerializeToString())\n",
    "    names = [i.name for i in sess.get_inputs()]\n",
    "    input = {name: input for name, input in zip(names, inputs)}\n",
    "    res = sess.run(None, input)\n",
    "    names = [o.name for o in sess.get_outputs()]\n",
    "    return {name: output for name, output in zip(names, res)}\n",
    "\n",
    "Y = predict_with_onnxruntime(model_def, X)\n",
    "print(Y)"
   ]
  },
  {
   "cell_type": "markdown",
   "metadata": {},
   "source": [
    "Display the ONNX graph\n",
    "++++++++++++++++++++++\n",
    "\n"
   ]
  },
  {
   "cell_type": "code",
   "execution_count": null,
   "metadata": {
    "ExecuteTime": {
     "end_time": "2019-10-02T12:45:37.881818Z",
     "start_time": "2019-10-02T12:45:36.582954Z"
    }
   },
   "outputs": [],
   "source": [
    "from onnx.tools.net_drawer import GetPydotGraph, GetOpNodeProducer\n",
    "pydot_graph = GetPydotGraph(model_def.graph, name=model_def.graph.name, rankdir=\"TB\",\n",
    "                            node_producer=GetOpNodeProducer(\"docstring\", color=\"yellow\",\n",
    "                                                            fillcolor=\"yellow\", style=\"filled\"))\n",
    "pydot_graph.write_dot(\"pipeline_transpose2x.dot\")\n",
    "\n",
    "import os\n",
    "os.system('dot -O -Gdpi=300 -Tpng pipeline_transpose2x.dot')\n",
    "\n",
    "import matplotlib.pyplot as plt\n",
    "image = plt.imread(\"pipeline_transpose2x.dot.png\")\n",
    "fig, ax = plt.subplots(figsize=(40, 20))\n",
    "ax.imshow(image)\n",
    "ax.axis('off')"
   ]
  },
  {
   "cell_type": "markdown",
   "metadata": {},
   "source": [
    "**Versions used for this example**\n",
    "\n"
   ]
  },
  {
   "cell_type": "code",
   "execution_count": null,
   "metadata": {
    "ExecuteTime": {
     "end_time": "2019-10-02T12:45:37.889510Z",
     "start_time": "2019-10-02T12:45:37.883722Z"
    }
   },
   "outputs": [],
   "source": [
    "import numpy, sklearn\n",
    "print(\"numpy:\", numpy.__version__)\n",
    "print(\"scikit-learn:\", sklearn.__version__)\n",
    "import onnx, onnxruntime, skl2onnx\n",
    "print(\"onnx: \", onnx.__version__)\n",
    "print(\"onnxruntime: \", onnxruntime.__version__)\n",
    "print(\"skl2onnx: \", skl2onnx.__version__)"
   ]
  },
  {
   "cell_type": "code",
   "execution_count": null,
   "metadata": {},
   "outputs": [],
   "source": []
  }
 ],
 "metadata": {
  "kernelspec": {
   "display_name": "venv3_test-onnx",
   "language": "python",
   "name": "venv3_test-onnx"
  },
  "language_info": {
   "codemirror_mode": {
    "name": "ipython",
    "version": 3
   },
   "file_extension": ".py",
   "mimetype": "text/x-python",
   "name": "python",
   "nbconvert_exporter": "python",
   "pygments_lexer": "ipython3",
   "version": "3.6.8"
  },
  "toc": {
   "base_numbering": 1,
   "nav_menu": {},
   "number_sections": true,
   "sideBar": true,
   "skip_h1_title": false,
   "title_cell": "Table of Contents",
   "title_sidebar": "Contents",
   "toc_cell": false,
   "toc_position": {},
   "toc_section_display": true,
   "toc_window_display": false
  }
 },
 "nbformat": 4,
 "nbformat_minor": 1
}
