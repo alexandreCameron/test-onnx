{
 "cells": [
  {
   "cell_type": "markdown",
   "metadata": {},
   "source": [
    "# Test for titanic dataset"
   ]
  },
  {
   "cell_type": "markdown",
   "metadata": {},
   "source": [
    "## Import lib"
   ]
  },
  {
   "cell_type": "code",
   "execution_count": 1,
   "metadata": {
    "ExecuteTime": {
     "end_time": "2019-09-11T13:33:06.398325Z",
     "start_time": "2019-09-11T13:33:05.709421Z"
    }
   },
   "outputs": [],
   "source": [
    "import os\n",
    "import sys\n",
    "\n",
    "import numpy as np\n",
    "import pandas as pd\n",
    "import sklearn\n",
    "\n",
    "import matplotlib as mpl\n",
    "import matplotlib.pyplot as plt\n",
    "\n",
    "%load_ext autoreload\n",
    "%autoreload 2"
   ]
  },
  {
   "cell_type": "code",
   "execution_count": 2,
   "metadata": {
    "ExecuteTime": {
     "end_time": "2019-09-11T13:33:06.897605Z",
     "start_time": "2019-09-11T13:33:06.399970Z"
    }
   },
   "outputs": [],
   "source": [
    "# Sklearn\n",
    "from sklearn.impute import SimpleImputer\n",
    "from sklearn.preprocessing import StandardScaler\n",
    "from sklearn.pipeline import make_pipeline\n",
    "\n",
    "# Skl2onnx\n",
    "from skl2onnx import convert_sklearn\n",
    "from skl2onnx.common.data_types import FloatTensorType\n",
    "\n",
    "# ONNX\n",
    "import onnxruntime as rt\n",
    "import onnx\n",
    "from onnx import ModelProto\n",
    "from onnx.tools.net_drawer import GetPydotGraph, GetOpNodeProducer\n",
    "\n",
    "# Plot graph\n",
    "import pydot\n",
    "from IPython.display import Image"
   ]
  },
  {
   "cell_type": "markdown",
   "metadata": {
    "ExecuteTime": {
     "end_time": "2019-09-11T11:09:19.537023Z",
     "start_time": "2019-09-11T11:09:19.525176Z"
    }
   },
   "source": [
    "## Import data"
   ]
  },
  {
   "cell_type": "code",
   "execution_count": 3,
   "metadata": {
    "ExecuteTime": {
     "end_time": "2019-09-11T13:33:06.926040Z",
     "start_time": "2019-09-11T13:33:06.899196Z"
    }
   },
   "outputs": [],
   "source": [
    "df_train = pd.read_csv('data/train.zip', compression='zip')"
   ]
  },
  {
   "cell_type": "markdown",
   "metadata": {},
   "source": [
    "---\n",
    "\n",
    "# Test mean-std transformation: on `Age` columns\n",
    "\n",
    "---"
   ]
  },
  {
   "cell_type": "code",
   "execution_count": 4,
   "metadata": {
    "ExecuteTime": {
     "end_time": "2019-09-11T13:33:06.940142Z",
     "start_time": "2019-09-11T13:33:06.927227Z"
    }
   },
   "outputs": [],
   "source": [
    "age_raw = df_train['Age'].values.reshape(-1,1)"
   ]
  },
  {
   "cell_type": "markdown",
   "metadata": {
    "ExecuteTime": {
     "end_time": "2019-09-11T11:17:29.279192Z",
     "start_time": "2019-09-11T11:17:29.204140Z"
    }
   },
   "source": [
    "---\n",
    "\n",
    "## Replace missing values\n",
    "\n",
    "### Train imputer (fillna)"
   ]
  },
  {
   "cell_type": "code",
   "execution_count": 5,
   "metadata": {
    "ExecuteTime": {
     "end_time": "2019-09-11T13:33:06.960017Z",
     "start_time": "2019-09-11T13:33:06.941492Z"
    }
   },
   "outputs": [
    {
     "name": "stdout",
     "output_type": "stream",
     "text": [
      "----------------------------------------------------------------------------------------------------\n",
      "Imputer option\n",
      "{'copy': True, 'fill_value': None, 'missing_values': nan, 'strategy': 'median', 'verbose': 0}\n",
      "----------------------------------------------------------------------------------------------------\n",
      "Replace value\n",
      "28.0\n"
     ]
    }
   ],
   "source": [
    "imp = SimpleImputer(missing_values=np.nan, strategy=\"median\")\n",
    "imp.fit(age_raw)\n",
    "age_completed = imp.transform(age_raw)\n",
    "\n",
    "print(100*\"-\")\n",
    "print(\"Imputer option\")\n",
    "print(imp.get_params())\n",
    "print(100*\"-\")\n",
    "print(\"Replace value\")\n",
    "print(imp.transform([[np.nan]])[0,0])"
   ]
  },
  {
   "cell_type": "markdown",
   "metadata": {},
   "source": [
    "### Check effect of imputation (fillna)"
   ]
  },
  {
   "cell_type": "code",
   "execution_count": 6,
   "metadata": {
    "ExecuteTime": {
     "end_time": "2019-09-11T13:33:07.188307Z",
     "start_time": "2019-09-11T13:33:06.962756Z"
    }
   },
   "outputs": [
    {
     "data": {
      "image/png": "[encoded data removed]",
      "text/plain": [
       "<Figure size 432x288 with 1 Axes>"
      ]
     },
     "metadata": {
      "needs_background": "light"
     },
     "output_type": "display_data"
    }
   ],
   "source": [
    "plt.figure()\n",
    "\n",
    "plt.hist(age_completed, alpha=0.5, label='After fillna')\n",
    "plt.hist(age_raw[~np.isnan(age_raw)], alpha=0.5, label='Before fillna')\n",
    "\n",
    "plt.title(\"Change of distritbution\")\n",
    "plt.legend()\n",
    "plt.show()"
   ]
  },
  {
   "cell_type": "markdown",
   "metadata": {},
   "source": [
    "### Save to onnx"
   ]
  },
  {
   "cell_type": "code",
   "execution_count": 7,
   "metadata": {
    "ExecuteTime": {
     "end_time": "2019-09-11T13:33:07.211925Z",
     "start_time": "2019-09-11T13:33:07.190158Z"
    }
   },
   "outputs": [
    {
     "name": "stderr",
     "output_type": "stream",
     "text": [
      "The maximum opset needed by this model is only 1.\n"
     ]
    }
   ],
   "source": [
    "initial_type = [('float_input', FloatTensorType([1, 1]))]\n",
    "onx = convert_sklearn(imp, initial_types=initial_type)\n",
    "\n",
    "onnx_file = \"imputer_fillna.onnx\"\n",
    "\n",
    "with open(onnx_file, \"wb\") as f:\n",
    "    f.write(onx.SerializeToString())"
   ]
  },
  {
   "cell_type": "markdown",
   "metadata": {
    "ExecuteTime": {
     "end_time": "2019-09-11T11:51:11.934891Z",
     "start_time": "2019-09-11T11:51:11.906055Z"
    }
   },
   "source": [
    "### Predict using ONNX"
   ]
  },
  {
   "cell_type": "code",
   "execution_count": 8,
   "metadata": {
    "ExecuteTime": {
     "end_time": "2019-09-11T13:33:07.229834Z",
     "start_time": "2019-09-11T13:33:07.213256Z"
    }
   },
   "outputs": [],
   "source": [
    "sess = rt.InferenceSession(onnx_file)\n",
    "input_name = sess.get_inputs()[0].name\n",
    "label_name = sess.get_outputs()[0].name\n",
    "age_completed_onnx = sess.run([label_name], {input_name: age_raw.astype(np.float32)})[0]"
   ]
  },
  {
   "cell_type": "markdown",
   "metadata": {},
   "source": [
    "### Compare diff"
   ]
  },
  {
   "cell_type": "code",
   "execution_count": 9,
   "metadata": {
    "ExecuteTime": {
     "end_time": "2019-09-11T13:33:07.248493Z",
     "start_time": "2019-09-11T13:33:07.231260Z"
    }
   },
   "outputs": [
    {
     "name": "stdout",
     "output_type": "stream",
     "text": [
      "All values match\n"
     ]
    }
   ],
   "source": [
    "is_float_diff_zero = all(np.isclose(age_completed_onnx.reshape(1,-1)[0],\n",
    "                                    age_completed.reshape(1,-1)[0]))\n",
    "\n",
    "if is_float_diff_zero:\n",
    "    print(\"All values match\")\n",
    "else:\n",
    "    print(\"Onxx prediction does not match standard sklearn prediction.\")"
   ]
  },
  {
   "cell_type": "markdown",
   "metadata": {},
   "source": [
    "### View graph of transformation\n",
    "\n",
    "see `01-iris/01-iris_web_tuto.ipynb` for detailed version"
   ]
  },
  {
   "cell_type": "code",
   "execution_count": 10,
   "metadata": {
    "ExecuteTime": {
     "end_time": "2019-09-11T13:33:07.379340Z",
     "start_time": "2019-09-11T13:33:07.250541Z"
    }
   },
   "outputs": [
    {
     "name": "stdout",
     "output_type": "stream",
     "text": [
      "ir_version: 5\n",
      "producer_name: \"skl2onnx\"\n",
      "producer_version: \"1.5.1\"\n",
      "domain: \"ai.onnx\"\n",
      "model_version: 0\n",
      "doc_string: \"\"\n",
      "graph {\n",
      "  node {\n",
      "    input: \"float_input\"\n",
      "    output: \"variable\"\n",
      "    name: \"Imputer\"\n",
      "    op_type: \"Imputer\"\n",
      "    attribute {\n",
      "      name: \"imputed_value_floats\"\n",
      "      floats: 28.0\n",
      "      type: FLOATS\n",
      "    }\n",
      "    attribute {\n",
      "      name: \"replaced_value_float\"\n",
      "      f: nan\n",
      "      type: FLOAT\n",
      "    }\n",
      "    domain: \"ai.onnx.ml\"\n",
      "  }\n",
      "  name: \"4d5a1f54e3df484f97ac8f86afa3b046\"\n",
      "  input {\n",
      "    name: \"float_input\"\n",
      "    type {\n",
      "      tensor_type {\n",
      "        elem_type: 1\n",
      "        shape {\n",
      "          dim {\n",
      "            dim_value: 1\n",
      "          }\n",
      "          dim {\n",
      "            dim_value: 1\n",
      "          }\n",
      "        }\n",
      "      }\n",
      "    }\n",
      "  }\n",
      "  output {\n",
      "    name: \"variable\"\n",
      "    type {\n",
      "      tensor_type {\n",
      "        elem_type: 1\n",
      "        shape {\n",
      "          dim {\n",
      "            dim_value: 1\n",
      "          }\n",
      "          dim {\n",
      "            dim_value: 1\n",
      "          }\n",
      "        }\n",
      "      }\n",
      "    }\n",
      "  }\n",
      "}\n",
      "opset_import {\n",
      "  domain: \"ai.onnx.ml\"\n",
      "  version: 1\n",
      "}\n",
      "\n"
     ]
    },
    {
     "data": {
      "image/png": "[encoded data removed]",
      "text/plain": [
       "<IPython.core.display.Image object>"
      ]
     },
     "execution_count": 10,
     "metadata": {},
     "output_type": "execute_result"
    }
   ],
   "source": [
    "# Load\n",
    "onnx_model = onnx.load(onnx_file)\n",
    "model = ModelProto()\n",
    "with open(onnx_file, 'rb') as fid:\n",
    "    content = fid.read()\n",
    "    model.ParseFromString(content)\n",
    "    \n",
    "# Make pydot object\n",
    "pydot_graph = GetPydotGraph(model.graph, name=model.graph.name, rankdir=\"TB\",\n",
    "                            node_producer=GetOpNodeProducer(\"docstring\"))\n",
    "graph_file = 'imp_graph.dot'\n",
    "graph_img = 'imp_graph.png'\n",
    "pydot_graph.write(graph_file)\n",
    "\n",
    "# Write image\n",
    "(graph,) = pydot.graph_from_dot_file(graph_file)\n",
    "graph.write_png(graph_img)\n",
    "\n",
    "# View transformation\n",
    "# # JSON-like\n",
    "print(onnx_model.__str__())\n",
    "\n",
    "# # Image\n",
    "Image(graph_img)"
   ]
  },
  {
   "cell_type": "markdown",
   "metadata": {},
   "source": [
    "---\n",
    "\n",
    "## Rescale data to have mean 0 and std 1\n",
    "\n",
    "### Train scale transformer (fillna)"
   ]
  },
  {
   "cell_type": "code",
   "execution_count": 11,
   "metadata": {
    "ExecuteTime": {
     "end_time": "2019-09-11T13:33:07.400922Z",
     "start_time": "2019-09-11T13:33:07.381592Z"
    }
   },
   "outputs": [
    {
     "name": "stdout",
     "output_type": "stream",
     "text": [
      "----------------------------------------------------------------------------------------------------\n",
      "Scaler option\n",
      "{'copy': True, 'with_mean': True, 'with_std': True}\n",
      "----------------------------------------------------------------------------------------------------\n",
      "Mean\n",
      "29.36158249158249\n",
      "----------------------------------------------------------------------------------------------------\n",
      "Scale (STD)\n",
      "13.012388272793666\n"
     ]
    }
   ],
   "source": [
    "scaler = StandardScaler().fit(age_completed)\n",
    "age_scaled = scaler.transform(age_completed)\n",
    "\n",
    "print(100*\"-\")\n",
    "print(\"Scaler option\")\n",
    "print(scaler.get_params())\n",
    "print(100*\"-\")\n",
    "print(\"Mean\")\n",
    "print(scaler.mean_[0])\n",
    "print(100*\"-\")\n",
    "print(\"Scale (STD)\")\n",
    "print(scaler.scale_[0])"
   ]
  },
  {
   "cell_type": "markdown",
   "metadata": {},
   "source": [
    "### Check transformation"
   ]
  },
  {
   "cell_type": "code",
   "execution_count": 12,
   "metadata": {
    "ExecuteTime": {
     "end_time": "2019-09-11T13:33:07.604715Z",
     "start_time": "2019-09-11T13:33:07.402711Z"
    }
   },
   "outputs": [
    {
     "data": {
      "image/png": "[encoded data removed]",
      "text/plain": [
       "<Figure size 432x288 with 1 Axes>"
      ]
     },
     "metadata": {
      "needs_background": "light"
     },
     "output_type": "display_data"
    }
   ],
   "source": [
    "plt.figure()\n",
    "plt.scatter(age_completed, age_scaled, alpha=0.5, label='after v before')\n",
    "plt.title(\"Change of scale\")\n",
    "plt.legend()\n",
    "plt.show()"
   ]
  },
  {
   "cell_type": "markdown",
   "metadata": {},
   "source": [
    "### Save to onnx"
   ]
  },
  {
   "cell_type": "code",
   "execution_count": 13,
   "metadata": {
    "ExecuteTime": {
     "end_time": "2019-09-11T13:33:07.628793Z",
     "start_time": "2019-09-11T13:33:07.606469Z"
    }
   },
   "outputs": [
    {
     "name": "stderr",
     "output_type": "stream",
     "text": [
      "The maximum opset needed by this model is only 1.\n"
     ]
    }
   ],
   "source": [
    "initial_type = [('float_input', FloatTensorType([1, 1]))]\n",
    "onx = convert_sklearn(scaler, initial_types=initial_type)\n",
    "\n",
    "onnx_file = \"scaler_transformation.onnx\"\n",
    "\n",
    "with open(onnx_file, \"wb\") as f:\n",
    "    f.write(onx.SerializeToString())"
   ]
  },
  {
   "cell_type": "markdown",
   "metadata": {},
   "source": [
    "### Predict using ONNX"
   ]
  },
  {
   "cell_type": "code",
   "execution_count": 14,
   "metadata": {
    "ExecuteTime": {
     "end_time": "2019-09-11T13:33:07.649656Z",
     "start_time": "2019-09-11T13:33:07.630838Z"
    }
   },
   "outputs": [],
   "source": [
    "sess = rt.InferenceSession(onnx_file)\n",
    "input_name = sess.get_inputs()[0].name\n",
    "label_name = sess.get_outputs()[0].name\n",
    "age_scaled_onnx = sess.run([label_name], {input_name: age_completed.astype(np.float32)})[0]"
   ]
  },
  {
   "cell_type": "markdown",
   "metadata": {},
   "source": [
    "### Compare diff"
   ]
  },
  {
   "cell_type": "code",
   "execution_count": 15,
   "metadata": {
    "ExecuteTime": {
     "end_time": "2019-09-11T13:33:07.669961Z",
     "start_time": "2019-09-11T13:33:07.651003Z"
    }
   },
   "outputs": [
    {
     "name": "stdout",
     "output_type": "stream",
     "text": [
      "All values match\n"
     ]
    }
   ],
   "source": [
    "is_float_diff_zero = all(np.isclose(age_scaled_onnx.reshape(1,-1)[0],\n",
    "                                    age_scaled.reshape(1,-1)[0]))\n",
    "\n",
    "if is_float_diff_zero:\n",
    "    print(\"All values match\")\n",
    "else:\n",
    "    print(\"Onxx prediction does not match standard sklearn prediction.\")\n",
    "    \n",
    "    plt.figure()\n",
    "    plt.scatter(age_scaled_onnx, age_scaled, alpha=0.5, label='onnx v direct')\n",
    "    plt.title(\"Difference in re-scale\")\n",
    "    plt.legend()\n",
    "    plt.show()"
   ]
  },
  {
   "cell_type": "markdown",
   "metadata": {},
   "source": [
    "### View graph of transformation\n",
    "\n",
    "see `01-iris/01-iris_web_tuto.ipynb` for detailed version"
   ]
  },
  {
   "cell_type": "code",
   "execution_count": 16,
   "metadata": {
    "ExecuteTime": {
     "end_time": "2019-09-11T13:33:07.748441Z",
     "start_time": "2019-09-11T13:33:07.671142Z"
    }
   },
   "outputs": [
    {
     "name": "stdout",
     "output_type": "stream",
     "text": [
      "ir_version: 5\n",
      "producer_name: \"skl2onnx\"\n",
      "producer_version: \"1.5.1\"\n",
      "domain: \"ai.onnx\"\n",
      "model_version: 0\n",
      "doc_string: \"\"\n",
      "graph {\n",
      "  node {\n",
      "    input: \"float_input\"\n",
      "    output: \"variable\"\n",
      "    name: \"Scaler\"\n",
      "    op_type: \"Scaler\"\n",
      "    attribute {\n",
      "      name: \"offset\"\n",
      "      floats: 29.361581802368164\n",
      "      type: FLOATS\n",
      "    }\n",
      "    attribute {\n",
      "      name: \"scale\"\n",
      "      floats: 0.07684984058141708\n",
      "      type: FLOATS\n",
      "    }\n",
      "    domain: \"ai.onnx.ml\"\n",
      "  }\n",
      "  name: \"d65d3f3f055b409797094497ef3e2354\"\n",
      "  input {\n",
      "    name: \"float_input\"\n",
      "    type {\n",
      "      tensor_type {\n",
      "        elem_type: 1\n",
      "        shape {\n",
      "          dim {\n",
      "            dim_value: 1\n",
      "          }\n",
      "          dim {\n",
      "            dim_value: 1\n",
      "          }\n",
      "        }\n",
      "      }\n",
      "    }\n",
      "  }\n",
      "  output {\n",
      "    name: \"variable\"\n",
      "    type {\n",
      "      tensor_type {\n",
      "        elem_type: 1\n",
      "        shape {\n",
      "          dim {\n",
      "            dim_value: 1\n",
      "          }\n",
      "          dim {\n",
      "            dim_value: 1\n",
      "          }\n",
      "        }\n",
      "      }\n",
      "    }\n",
      "  }\n",
      "}\n",
      "opset_import {\n",
      "  domain: \"ai.onnx.ml\"\n",
      "  version: 1\n",
      "}\n",
      "\n"
     ]
    },
    {
     "data": {
      "image/png": "[encoded data removed]",
      "text/plain": [
       "<IPython.core.display.Image object>"
      ]
     },
     "execution_count": 16,
     "metadata": {},
     "output_type": "execute_result"
    }
   ],
   "source": [
    "# Load\n",
    "onnx_model = onnx.load(onnx_file)\n",
    "model = ModelProto()\n",
    "with open(onnx_file, 'rb') as fid:\n",
    "    content = fid.read()\n",
    "    model.ParseFromString(content)\n",
    "    \n",
    "# Make pydot object\n",
    "pydot_graph = GetPydotGraph(model.graph, name=model.graph.name, rankdir=\"TB\",\n",
    "                            node_producer=GetOpNodeProducer(\"docstring\"))\n",
    "graph_file = 'scaler_graph.dot'\n",
    "graph_img = 'scaler_graph.png'\n",
    "pydot_graph.write(graph_file)\n",
    "\n",
    "# Write image\n",
    "(graph,) = pydot.graph_from_dot_file(graph_file)\n",
    "graph.write_png(graph_img)\n",
    "\n",
    "# View transformation\n",
    "# # JSON-like\n",
    "print(onnx_model.__str__())\n",
    "\n",
    "# # Image\n",
    "Image(graph_img)"
   ]
  },
  {
   "cell_type": "markdown",
   "metadata": {
    "ExecuteTime": {
     "end_time": "2019-09-11T12:09:34.625576Z",
     "start_time": "2019-09-11T12:09:34.590237Z"
    }
   },
   "source": [
    "---\n",
    "\n",
    "## Test sklearn pipeline\n",
    "\n",
    "### Train fillna-scaler pipeline"
   ]
  },
  {
   "cell_type": "code",
   "execution_count": 17,
   "metadata": {
    "ExecuteTime": {
     "end_time": "2019-09-11T13:33:07.775055Z",
     "start_time": "2019-09-11T13:33:07.750852Z"
    }
   },
   "outputs": [],
   "source": [
    "pipe_1 = make_pipeline(imp, scaler)\n",
    "age_pipe_1 = pipe_1.transform(age_raw)"
   ]
  },
  {
   "cell_type": "markdown",
   "metadata": {
    "ExecuteTime": {
     "end_time": "2019-09-11T12:20:52.969861Z",
     "start_time": "2019-09-11T12:20:52.899703Z"
    }
   },
   "source": [
    "### Check results"
   ]
  },
  {
   "cell_type": "code",
   "execution_count": 18,
   "metadata": {
    "ExecuteTime": {
     "end_time": "2019-09-11T13:33:07.805988Z",
     "start_time": "2019-09-11T13:33:07.776458Z"
    }
   },
   "outputs": [
    {
     "name": "stdout",
     "output_type": "stream",
     "text": [
      "All values match\n"
     ]
    }
   ],
   "source": [
    "is_float_diff_zero = all(np.isclose(age_pipe_1.reshape(1,-1)[0],\n",
    "                                    age_scaled.reshape(1,-1)[0]))\n",
    "\n",
    "if is_float_diff_zero:\n",
    "    print(\"All values match\")\n",
    "else:\n",
    "    print(\"Pipe_1 does not match step by step prediction.\")\n",
    "\n",
    "    plt.figure()\n",
    "    plt.scatter(age_pipe_1, age_scaled, alpha=0.5, label='after v before')\n",
    "    plt.title(\"Pipe v step by step\")\n",
    "    plt.legend()\n",
    "    plt.show()"
   ]
  },
  {
   "cell_type": "markdown",
   "metadata": {
    "ExecuteTime": {
     "end_time": "2019-09-11T12:24:30.342080Z",
     "start_time": "2019-09-11T12:24:30.259934Z"
    }
   },
   "source": [
    "### Save to onnx"
   ]
  },
  {
   "cell_type": "code",
   "execution_count": 19,
   "metadata": {
    "ExecuteTime": {
     "end_time": "2019-09-11T13:33:07.839771Z",
     "start_time": "2019-09-11T13:33:07.810723Z"
    }
   },
   "outputs": [
    {
     "name": "stderr",
     "output_type": "stream",
     "text": [
      "The maximum opset needed by this model is only 1.\n"
     ]
    }
   ],
   "source": [
    "initial_type = [('float_input', FloatTensorType([1, 1]))]\n",
    "onx = convert_sklearn(pipe_1, initial_types=initial_type)\n",
    "\n",
    "onnx_file = \"pipe_1.onnx\"\n",
    "\n",
    "with open(onnx_file, \"wb\") as f:\n",
    "    f.write(onx.SerializeToString())"
   ]
  },
  {
   "cell_type": "markdown",
   "metadata": {},
   "source": [
    "### Predict using ONNX"
   ]
  },
  {
   "cell_type": "code",
   "execution_count": 20,
   "metadata": {
    "ExecuteTime": {
     "end_time": "2019-09-11T13:33:07.863970Z",
     "start_time": "2019-09-11T13:33:07.843114Z"
    }
   },
   "outputs": [],
   "source": [
    "sess = rt.InferenceSession(onnx_file)\n",
    "input_name = sess.get_inputs()[0].name\n",
    "label_name = sess.get_outputs()[0].name\n",
    "age_pipe_1_onnx = sess.run([label_name], {input_name: age_raw.astype(np.float32)})[0]"
   ]
  },
  {
   "cell_type": "markdown",
   "metadata": {
    "ExecuteTime": {
     "end_time": "2019-09-11T12:25:54.299429Z",
     "start_time": "2019-09-11T12:25:54.265097Z"
    }
   },
   "source": [
    "### Compare diff"
   ]
  },
  {
   "cell_type": "code",
   "execution_count": 21,
   "metadata": {
    "ExecuteTime": {
     "end_time": "2019-09-11T13:33:07.886248Z",
     "start_time": "2019-09-11T13:33:07.865891Z"
    }
   },
   "outputs": [
    {
     "name": "stdout",
     "output_type": "stream",
     "text": [
      "All values match\n"
     ]
    }
   ],
   "source": [
    "is_float_diff_zero = all(np.isclose(age_pipe_1_onnx.reshape(1,-1)[0],\n",
    "                                    age_pipe_1.reshape(1,-1)[0]))\n",
    "\n",
    "if is_float_diff_zero:\n",
    "    print(\"All values match\")\n",
    "else:\n",
    "    print(\"Onxx prediction does not match standard sklearn prediction.\")\n",
    "    \n",
    "    plt.figure()\n",
    "    plt.scatter(age_scaled_onnx, age_scaled, alpha=0.5, label='onnx v direct')\n",
    "    plt.title(\"Difference in re-scale\")\n",
    "    plt.legend()\n",
    "    plt.show()"
   ]
  },
  {
   "cell_type": "markdown",
   "metadata": {},
   "source": [
    "#### View graph of transformation\n",
    "\n",
    "see `01-iris/01-iris_web_tuto.ipynb` for detailed version"
   ]
  },
  {
   "cell_type": "code",
   "execution_count": 22,
   "metadata": {
    "ExecuteTime": {
     "end_time": "2019-09-11T13:33:08.002612Z",
     "start_time": "2019-09-11T13:33:07.887569Z"
    },
    "scrolled": false
   },
   "outputs": [
    {
     "name": "stdout",
     "output_type": "stream",
     "text": [
      "ir_version: 5\n",
      "producer_name: \"skl2onnx\"\n",
      "producer_version: \"1.5.1\"\n",
      "domain: \"ai.onnx\"\n",
      "model_version: 0\n",
      "doc_string: \"\"\n",
      "graph {\n",
      "  node {\n",
      "    input: \"float_input\"\n",
      "    output: \"variable\"\n",
      "    name: \"Imputer\"\n",
      "    op_type: \"Imputer\"\n",
      "    attribute {\n",
      "      name: \"imputed_value_floats\"\n",
      "      floats: 28.0\n",
      "      type: FLOATS\n",
      "    }\n",
      "    attribute {\n",
      "      name: \"replaced_value_float\"\n",
      "      f: nan\n",
      "      type: FLOAT\n",
      "    }\n",
      "    domain: \"ai.onnx.ml\"\n",
      "  }\n",
      "  node {\n",
      "    input: \"variable\"\n",
      "    output: \"variable1\"\n",
      "    name: \"Scaler\"\n",
      "    op_type: \"Scaler\"\n",
      "    attribute {\n",
      "      name: \"offset\"\n",
      "      floats: 29.361581802368164\n",
      "      type: FLOATS\n",
      "    }\n",
      "    attribute {\n",
      "      name: \"scale\"\n",
      "      floats: 0.07684984058141708\n",
      "      type: FLOATS\n",
      "    }\n",
      "    domain: \"ai.onnx.ml\"\n",
      "  }\n",
      "  name: \"7988d03f2cd24e1e8b72f70c7ef66462\"\n",
      "  input {\n",
      "    name: \"float_input\"\n",
      "    type {\n",
      "      tensor_type {\n",
      "        elem_type: 1\n",
      "        shape {\n",
      "          dim {\n",
      "            dim_value: 1\n",
      "          }\n",
      "          dim {\n",
      "            dim_value: 1\n",
      "          }\n",
      "        }\n",
      "      }\n",
      "    }\n",
      "  }\n",
      "  output {\n",
      "    name: \"variable1\"\n",
      "    type {\n",
      "      tensor_type {\n",
      "        elem_type: 1\n",
      "        shape {\n",
      "          dim {\n",
      "            dim_value: 1\n",
      "          }\n",
      "          dim {\n",
      "            dim_value: 1\n",
      "          }\n",
      "        }\n",
      "      }\n",
      "    }\n",
      "  }\n",
      "}\n",
      "opset_import {\n",
      "  domain: \"ai.onnx.ml\"\n",
      "  version: 1\n",
      "}\n",
      "\n"
     ]
    },
    {
     "data": {
      "image/png": "[encoded data removed]",
      "text/plain": [
       "<IPython.core.display.Image object>"
      ]
     },
     "execution_count": 22,
     "metadata": {},
     "output_type": "execute_result"
    }
   ],
   "source": [
    "# Load\n",
    "onnx_model = onnx.load(onnx_file)\n",
    "model = ModelProto()\n",
    "with open(onnx_file, 'rb') as fid:\n",
    "    content = fid.read()\n",
    "    model.ParseFromString(content)\n",
    "    \n",
    "# Make pydot object\n",
    "pydot_graph = GetPydotGraph(model.graph, name=model.graph.name, rankdir=\"TB\",\n",
    "                            node_producer=GetOpNodeProducer(\"docstring\"))\n",
    "graph_file = 'pipe_1_graph.dot'\n",
    "graph_img = 'pipe_1_graph.png'\n",
    "pydot_graph.write(graph_file)\n",
    "\n",
    "# Write image\n",
    "(graph,) = pydot.graph_from_dot_file(graph_file)\n",
    "graph.write_png(graph_img)\n",
    "\n",
    "# View transformation\n",
    "# # JSON-like\n",
    "print(onnx_model.__str__())\n",
    "\n",
    "# # Image\n",
    "Image(graph_img)"
   ]
  },
  {
   "cell_type": "markdown",
   "metadata": {},
   "source": [
    "## Test the custom class: `type_converter.py`\n",
    "\n",
    "**Custom class are not supported by onnx:**\n",
    "\n",
    "```python\n",
    "MissingShapeCalculator: Unable to find a shape calculator for type '<class 'type_converter.TypeConverter'>'.\n",
    "It usually means the pipeline being converted contains a\n",
    "transformer or a predictor with no corresponding converter\n",
    "implemented in sklearn-onnx. If the converted is implemented\n",
    "in another library (ie: onnxmltools), you need to register\n",
    "the converted so that it can be used by sklearn-onnx (function\n",
    "update_registered_converter). If the model is not yet covered\n",
    "by sklearn-onnx, you may raise an issue to\n",
    "https://github.com/onnx/sklearn-onnx/issues\n",
    "to get the converter implemented or even contribute to the\n",
    "project. If the model is a custom model, a new converter must\n",
    "be implemented. Examples can be found in the gallery.\n",
    "```"
   ]
  },
  {
   "cell_type": "markdown",
   "metadata": {},
   "source": [
    "### Train custom type conveter"
   ]
  },
  {
   "cell_type": "code",
   "execution_count": 23,
   "metadata": {
    "ExecuteTime": {
     "end_time": "2019-09-11T13:33:08.038486Z",
     "start_time": "2019-09-11T13:33:08.007234Z"
    }
   },
   "outputs": [
    {
     "name": "stdout",
     "output_type": "stream",
     "text": [
      "[ 2.20000000e+01  3.80000000e+01  2.60000000e+01  3.50000000e+01\n",
      "  3.50000000e+01 -9.22337204e+18  5.40000000e+01  2.00000000e+00\n",
      "  2.70000000e+01  1.40000000e+01]\n"
     ]
    }
   ],
   "source": [
    "from type_converter import TypeConverter\n",
    "chosen_type = 'number'\n",
    "\n",
    "type_conv = TypeConverter(detected_type=chosen_type)\n",
    "type_conv.fit([])\n",
    "age_converted = type_conv.transform(age_raw.astype(int).reshape(1,-1)[0])\n",
    "\n",
    "print(age_converted[:10])"
   ]
  },
  {
   "cell_type": "markdown",
   "metadata": {},
   "source": [
    "### Try to export to onnx"
   ]
  },
  {
   "cell_type": "code",
   "execution_count": 24,
   "metadata": {
    "ExecuteTime": {
     "end_time": "2019-09-11T13:33:08.184127Z",
     "start_time": "2019-09-11T13:33:08.040560Z"
    }
   },
   "outputs": [
    {
     "ename": "MissingShapeCalculator",
     "evalue": "Unable to find a shape calculator for type '<class 'type_converter.TypeConverter'>'.\nIt usually means the pipeline being converted contains a\ntransformer or a predictor with no corresponding converter\nimplemented in sklearn-onnx. If the converted is implemented\nin another library (ie: onnxmltools), you need to register\nthe converted so that it can be used by sklearn-onnx (function\nupdate_registered_converter). If the model is not yet covered\nby sklearn-onnx, you may raise an issue to\nhttps://github.com/onnx/sklearn-onnx/issues\nto get the converter implemented or even contribute to the\nproject. If the model is a custom model, a new converter must\nbe implemented. Examples can be found in the gallery.\n",
     "output_type": "error",
     "traceback": [
      "\u001b[0;31m---------------------------------------------------------------------------\u001b[0m",
      "\u001b[0;31mMissingShapeCalculator\u001b[0m                    Traceback (most recent call last)",
      "\u001b[0;32m<ipython-input-24-a54a1ab0d78b>\u001b[0m in \u001b[0;36m<module>\u001b[0;34m\u001b[0m\n\u001b[1;32m      1\u001b[0m \u001b[0minitial_type\u001b[0m \u001b[0;34m=\u001b[0m \u001b[0;34m[\u001b[0m\u001b[0;34m(\u001b[0m\u001b[0;34m'int'\u001b[0m\u001b[0;34m,\u001b[0m \u001b[0mFloatTensorType\u001b[0m\u001b[0;34m(\u001b[0m\u001b[0;34m[\u001b[0m\u001b[0;36m1\u001b[0m\u001b[0;34m]\u001b[0m\u001b[0;34m)\u001b[0m\u001b[0;34m)\u001b[0m\u001b[0;34m]\u001b[0m\u001b[0;34m\u001b[0m\u001b[0;34m\u001b[0m\u001b[0m\n\u001b[0;32m----> 2\u001b[0;31m \u001b[0monx\u001b[0m \u001b[0;34m=\u001b[0m \u001b[0mconvert_sklearn\u001b[0m\u001b[0;34m(\u001b[0m\u001b[0mtype_conv\u001b[0m\u001b[0;34m,\u001b[0m \u001b[0minitial_types\u001b[0m\u001b[0;34m=\u001b[0m\u001b[0minitial_type\u001b[0m\u001b[0;34m)\u001b[0m\u001b[0;34m\u001b[0m\u001b[0;34m\u001b[0m\u001b[0m\n\u001b[0m\u001b[1;32m      3\u001b[0m \u001b[0;34m\u001b[0m\u001b[0m\n\u001b[1;32m      4\u001b[0m \u001b[0monnx_file\u001b[0m \u001b[0;34m=\u001b[0m \u001b[0;34m\"type_converter.onnx\"\u001b[0m\u001b[0;34m\u001b[0m\u001b[0;34m\u001b[0m\u001b[0m\n\u001b[1;32m      5\u001b[0m \u001b[0;34m\u001b[0m\u001b[0m\n",
      "\u001b[0;32m~/git_mission/test-onnx/venv3_test-onnx/lib/python3.6/site-packages/skl2onnx/convert.py\u001b[0m in \u001b[0;36mconvert_sklearn\u001b[0;34m(model, name, initial_types, doc_string, target_opset, custom_conversion_functions, custom_shape_calculators, custom_parsers, options, dtype, intermediate)\u001b[0m\n\u001b[1;32m    132\u001b[0m \u001b[0;34m\u001b[0m\u001b[0m\n\u001b[1;32m    133\u001b[0m     \u001b[0;31m# Infer variable shapes\u001b[0m\u001b[0;34m\u001b[0m\u001b[0;34m\u001b[0m\u001b[0;34m\u001b[0m\u001b[0m\n\u001b[0;32m--> 134\u001b[0;31m     \u001b[0mtopology\u001b[0m\u001b[0;34m.\u001b[0m\u001b[0mcompile\u001b[0m\u001b[0;34m(\u001b[0m\u001b[0;34m)\u001b[0m\u001b[0;34m\u001b[0m\u001b[0;34m\u001b[0m\u001b[0m\n\u001b[0m\u001b[1;32m    135\u001b[0m \u001b[0;34m\u001b[0m\u001b[0m\n\u001b[1;32m    136\u001b[0m     \u001b[0;31m# Convert our Topology object into ONNX. The outcome is an ONNX model.\u001b[0m\u001b[0;34m\u001b[0m\u001b[0;34m\u001b[0m\u001b[0;34m\u001b[0m\u001b[0m\n",
      "\u001b[0;32m~/git_mission/test-onnx/venv3_test-onnx/lib/python3.6/site-packages/skl2onnx/common/_topology.py\u001b[0m in \u001b[0;36mcompile\u001b[0;34m(self)\u001b[0m\n\u001b[1;32m    828\u001b[0m         \u001b[0mself\u001b[0m\u001b[0;34m.\u001b[0m\u001b[0m_resolve_duplicates\u001b[0m\u001b[0;34m(\u001b[0m\u001b[0;34m)\u001b[0m\u001b[0;34m\u001b[0m\u001b[0;34m\u001b[0m\u001b[0m\n\u001b[1;32m    829\u001b[0m         \u001b[0mself\u001b[0m\u001b[0;34m.\u001b[0m\u001b[0m_fix_shapes\u001b[0m\u001b[0;34m(\u001b[0m\u001b[0;34m)\u001b[0m\u001b[0;34m\u001b[0m\u001b[0;34m\u001b[0m\u001b[0m\n\u001b[0;32m--> 830\u001b[0;31m         \u001b[0mself\u001b[0m\u001b[0;34m.\u001b[0m\u001b[0m_infer_all_types\u001b[0m\u001b[0;34m(\u001b[0m\u001b[0;34m)\u001b[0m\u001b[0;34m\u001b[0m\u001b[0;34m\u001b[0m\u001b[0m\n\u001b[0m\u001b[1;32m    831\u001b[0m         \u001b[0mself\u001b[0m\u001b[0;34m.\u001b[0m\u001b[0m_check_structure\u001b[0m\u001b[0;34m(\u001b[0m\u001b[0;34m)\u001b[0m\u001b[0;34m\u001b[0m\u001b[0;34m\u001b[0m\u001b[0m\n\u001b[1;32m    832\u001b[0m \u001b[0;34m\u001b[0m\u001b[0m\n",
      "\u001b[0;32m~/git_mission/test-onnx/venv3_test-onnx/lib/python3.6/site-packages/skl2onnx/common/_topology.py\u001b[0m in \u001b[0;36m_infer_all_types\u001b[0;34m(self)\u001b[0m\n\u001b[1;32m    681\u001b[0m                 \u001b[0mshape_calc\u001b[0m\u001b[0;34m(\u001b[0m\u001b[0moperator\u001b[0m\u001b[0;34m)\u001b[0m\u001b[0;34m\u001b[0m\u001b[0;34m\u001b[0m\u001b[0m\n\u001b[1;32m    682\u001b[0m             \u001b[0;32melse\u001b[0m\u001b[0;34m:\u001b[0m\u001b[0;34m\u001b[0m\u001b[0;34m\u001b[0m\u001b[0m\n\u001b[0;32m--> 683\u001b[0;31m                 \u001b[0moperator\u001b[0m\u001b[0;34m.\u001b[0m\u001b[0minfer_types\u001b[0m\u001b[0;34m(\u001b[0m\u001b[0;34m)\u001b[0m\u001b[0;34m\u001b[0m\u001b[0;34m\u001b[0m\u001b[0m\n\u001b[0m\u001b[1;32m    684\u001b[0m \u001b[0;34m\u001b[0m\u001b[0m\n\u001b[1;32m    685\u001b[0m     \u001b[0;32mdef\u001b[0m \u001b[0m_resolve_duplicates\u001b[0m\u001b[0;34m(\u001b[0m\u001b[0mself\u001b[0m\u001b[0;34m)\u001b[0m\u001b[0;34m:\u001b[0m\u001b[0;34m\u001b[0m\u001b[0;34m\u001b[0m\u001b[0m\n",
      "\u001b[0;32m~/git_mission/test-onnx/venv3_test-onnx/lib/python3.6/site-packages/skl2onnx/common/_topology.py\u001b[0m in \u001b[0;36minfer_types\u001b[0;34m(self)\u001b[0m\n\u001b[1;32m    198\u001b[0m             raise MissingShapeCalculator(\n\u001b[1;32m    199\u001b[0m                 \"Unable to find a shape calculator for type '{}'.\".format(\n\u001b[0;32m--> 200\u001b[0;31m                     type(self.raw_operator)))\n\u001b[0m\u001b[1;32m    201\u001b[0m         \u001b[0;32mtry\u001b[0m\u001b[0;34m:\u001b[0m\u001b[0;34m\u001b[0m\u001b[0;34m\u001b[0m\u001b[0m\n\u001b[1;32m    202\u001b[0m             \u001b[0mshape_calc\u001b[0m \u001b[0;34m=\u001b[0m \u001b[0m_registration\u001b[0m\u001b[0;34m.\u001b[0m\u001b[0mget_shape_calculator\u001b[0m\u001b[0;34m(\u001b[0m\u001b[0mself\u001b[0m\u001b[0;34m.\u001b[0m\u001b[0mtype\u001b[0m\u001b[0;34m)\u001b[0m\u001b[0;34m\u001b[0m\u001b[0;34m\u001b[0m\u001b[0m\n",
      "\u001b[0;31mMissingShapeCalculator\u001b[0m: Unable to find a shape calculator for type '<class 'type_converter.TypeConverter'>'.\nIt usually means the pipeline being converted contains a\ntransformer or a predictor with no corresponding converter\nimplemented in sklearn-onnx. If the converted is implemented\nin another library (ie: onnxmltools), you need to register\nthe converted so that it can be used by sklearn-onnx (function\nupdate_registered_converter). If the model is not yet covered\nby sklearn-onnx, you may raise an issue to\nhttps://github.com/onnx/sklearn-onnx/issues\nto get the converter implemented or even contribute to the\nproject. If the model is a custom model, a new converter must\nbe implemented. Examples can be found in the gallery.\n"
     ]
    }
   ],
   "source": [
    "initial_type = [('int', FloatTensorType([1]))]\n",
    "onx = convert_sklearn(type_conv, initial_types=initial_type)\n",
    "\n",
    "onnx_file = \"type_converter.onnx\"\n",
    "\n",
    "with open(onnx_file, \"wb\") as f:\n",
    "    f.write(onx.SerializeToString())"
   ]
  },
  {
   "cell_type": "markdown",
   "metadata": {},
   "source": [
    "# End of script"
   ]
  }
 ],
 "metadata": {
  "kernelspec": {
   "display_name": "venv3_test-onnx",
   "language": "python",
   "name": "venv3_test-onnx"
  },
  "language_info": {
   "codemirror_mode": {
    "name": "ipython",
    "version": 3
   },
   "file_extension": ".py",
   "mimetype": "text/x-python",
   "name": "python",
   "nbconvert_exporter": "python",
   "pygments_lexer": "ipython3",
   "version": "3.6.8"
  },
  "toc": {
   "base_numbering": 1,
   "nav_menu": {},
   "number_sections": true,
   "sideBar": true,
   "skip_h1_title": false,
   "title_cell": "Table of Contents",
   "title_sidebar": "Contents",
   "toc_cell": false,
   "toc_position": {},
   "toc_section_display": true,
   "toc_window_display": false
  }
 },
 "nbformat": 4,
 "nbformat_minor": 2
}
